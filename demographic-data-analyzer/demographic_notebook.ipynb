{
 "cells": [
  {
   "cell_type": "markdown",
   "id": "472c024d",
   "metadata": {},
   "source": [
    "# Adult Census Income Analysis\n",
    "\n",
    "Here is where I worked through answers to the freeCodeCamp Data Analysis with Python challenge using the Adult Census Income dataset. I used this scratchpaper to work through answers before submitting them to the test function."
   ]
  },
  {
   "cell_type": "code",
   "execution_count": 164,
   "id": "d56fd3d0",
   "metadata": {},
   "outputs": [],
   "source": [
    "import pandas as pd"
   ]
  },
  {
   "cell_type": "code",
   "execution_count": 165,
   "id": "2f1eb60b",
   "metadata": {},
   "outputs": [
    {
     "name": "stdout",
     "output_type": "stream",
     "text": [
      "<class 'pandas.core.frame.DataFrame'>\n",
      "RangeIndex: 32561 entries, 0 to 32560\n",
      "Data columns (total 15 columns):\n",
      " #   Column          Non-Null Count  Dtype \n",
      "---  ------          --------------  ----- \n",
      " 0   age             32561 non-null  int64 \n",
      " 1   workclass       32561 non-null  object\n",
      " 2   fnlwgt          32561 non-null  int64 \n",
      " 3   education       32561 non-null  object\n",
      " 4   education-num   32561 non-null  int64 \n",
      " 5   marital-status  32561 non-null  object\n",
      " 6   occupation      32561 non-null  object\n",
      " 7   relationship    32561 non-null  object\n",
      " 8   race            32561 non-null  object\n",
      " 9   sex             32561 non-null  object\n",
      " 10  capital-gain    32561 non-null  int64 \n",
      " 11  capital-loss    32561 non-null  int64 \n",
      " 12  hours-per-week  32561 non-null  int64 \n",
      " 13  native-country  32561 non-null  object\n",
      " 14  salary          32561 non-null  object\n",
      "dtypes: int64(6), object(9)\n",
      "memory usage: 3.7+ MB\n",
      "None\n",
      "32556    <=50K\n",
      "32557     >50K\n",
      "32558    <=50K\n",
      "32559    <=50K\n",
      "32560     >50K\n",
      "Name: salary, dtype: object\n"
     ]
    }
   ],
   "source": [
    "df = pd.read_csv(\"adult.data.csv\")\n",
    "print(df.info())\n",
    "print(df.tail()[\"salary\"])"
   ]
  },
  {
   "cell_type": "markdown",
   "id": "ed299b2d",
   "metadata": {},
   "source": [
    "How many of each race are represented in this dataset? This should be a Pandas series with race names as the index labels."
   ]
  },
  {
   "cell_type": "code",
   "execution_count": 166,
   "id": "5d614695",
   "metadata": {},
   "outputs": [
    {
     "data": {
      "text/plain": [
       "race\n",
       "White                 27816\n",
       "Black                  3124\n",
       "Asian-Pac-Islander     1039\n",
       "Amer-Indian-Eskimo      311\n",
       "Other                   271\n",
       "dtype: int64"
      ]
     },
     "execution_count": 166,
     "metadata": {},
     "output_type": "execute_result"
    }
   ],
   "source": [
    "race_count = df.value_counts(\"race\")\n",
    "race_count"
   ]
  },
  {
   "cell_type": "markdown",
   "id": "228e5e7b",
   "metadata": {},
   "source": [
    "What is the average age of men?"
   ]
  },
  {
   "cell_type": "code",
   "execution_count": 167,
   "id": "7ce2c9d3",
   "metadata": {},
   "outputs": [
    {
     "name": "stdout",
     "output_type": "stream",
     "text": [
      "39.4 years\n"
     ]
    }
   ],
   "source": [
    "average_age_men = df[df[\"sex\"] == \"Male\"][\"age\"].mean()\n",
    "print(f\"{average_age_men:0.1f} years\")"
   ]
  },
  {
   "cell_type": "markdown",
   "id": "883d0c97",
   "metadata": {},
   "source": [
    "What is the percentage of people who have a Bachelor's degree?"
   ]
  },
  {
   "cell_type": "code",
   "execution_count": 168,
   "id": "70e64d74",
   "metadata": {},
   "outputs": [
    {
     "name": "stdout",
     "output_type": "stream",
     "text": [
      "16.4%\n"
     ]
    }
   ],
   "source": [
    "percentage_bachelors = (df[\"education\"] == \"Bachelors\").mean()\n",
    "print(f\"{percentage_bachelors:0.1%}\")"
   ]
  },
  {
   "cell_type": "markdown",
   "id": "37212bc4",
   "metadata": {},
   "source": [
    "What percentage of people with advanced education (`Bachelors`, `Masters`, or `Doctorate`) make more than 50K?\n",
    "\n",
    "What percentage of people without advanced education make more than 50K?\n"
   ]
  },
  {
   "cell_type": "code",
   "execution_count": 175,
   "id": "ecfe2d4b",
   "metadata": {},
   "outputs": [
    {
     "name": "stdout",
     "output_type": "stream",
     "text": [
      "With advanced education making over 50K = 46.5%\n",
      "Without advanced education making over 50K = 17.4%\n"
     ]
    }
   ],
   "source": [
    "advanced_edu = [\"Bachelors\", \"Masters\", \"Doctorate\"]\n",
    "\n",
    "higher_edu_df = df[df[\"education\"].isin(advanced_edu)]\n",
    "lower_edu_df = df[~df[\"education\"].isin(advanced_edu)]\n",
    "\n",
    "higher_education = higher_edu_df.shape[0]\n",
    "lower_education = lower_edu_df.shape[0]\n",
    "\n",
    "higher_education_rich = (higher_edu_df[\"salary\"] == \">50K\").mean()\n",
    "lower_education_rich = (lower_edu_df[\"salary\"] == \">50K\").mean()\n",
    "\n",
    "print(f\"With advanced education making over 50K = {higher_education_rich:0.1%}\")\n",
    "print(f\"Without advanced education making over 50K = {lower_education_rich:0.1%}\")"
   ]
  },
  {
   "cell_type": "markdown",
   "id": "7fb3afaa",
   "metadata": {},
   "source": [
    "What is the minimum number of hours a person works per week (hours-per-week feature)?"
   ]
  },
  {
   "cell_type": "code",
   "execution_count": 170,
   "id": "dcd7e4e5",
   "metadata": {},
   "outputs": [
    {
     "name": "stdout",
     "output_type": "stream",
     "text": [
      "1 hr\n"
     ]
    }
   ],
   "source": [
    "min_work_hours = df[\"hours-per-week\"].min()\n",
    "print(f\"{min_work_hours} hr\")"
   ]
  },
  {
   "cell_type": "markdown",
   "id": "18b3096d",
   "metadata": {},
   "source": [
    "What percentage of the people who work the minimum number of hours per week have a salary of >50K?"
   ]
  },
  {
   "cell_type": "code",
   "execution_count": 171,
   "id": "245f4b10",
   "metadata": {},
   "outputs": [
    {
     "name": "stdout",
     "output_type": "stream",
     "text": [
      "10%\n"
     ]
    }
   ],
   "source": [
    "min_work_df = df[df[\"hours-per-week\"] == 1]\n",
    "rich_percentage = (min_work_df[\"salary\"] == \">50K\").mean()\n",
    "print(f\"{rich_percentage:0.0%}\")"
   ]
  },
  {
   "cell_type": "markdown",
   "id": "068349a5",
   "metadata": {},
   "source": [
    "What country has the highest percentage of people that earn >50K?"
   ]
  },
  {
   "cell_type": "code",
   "execution_count": 172,
   "id": "54cd71be",
   "metadata": {},
   "outputs": [
    {
     "name": "stdout",
     "output_type": "stream",
     "text": [
      "Iran: 41.9%\n"
     ]
    }
   ],
   "source": [
    "top_earners = df[df['salary'] == '>50K'].groupby('native-country').size()\n",
    "populations = df.groupby('native-country').size()\n",
    "percents = top_earners/populations\n",
    "\n",
    "highest_earning_country = percents.idxmax()\n",
    "highest_earning_country_percentage = percents.max()\n",
    "print(f\"{highest_earning_country}: {highest_earning_country_percentage:0.1%}\")"
   ]
  },
  {
   "cell_type": "code",
   "execution_count": 173,
   "id": "da168036",
   "metadata": {},
   "outputs": [],
   "source": [
    "# with value_counts(), instead of groupby() = yields same answer\n",
    "    # top_earners = df[df[\"salary\"] == \">50K\"]['native-country'].value_counts()\n",
    "    # populations = df['native-country'].value_counts()"
   ]
  },
  {
   "cell_type": "markdown",
   "id": "6a13680f",
   "metadata": {},
   "source": [
    "Identify the most popular occupation for those who earn >50K in India."
   ]
  },
  {
   "cell_type": "code",
   "execution_count": 174,
   "id": "afc62f23",
   "metadata": {},
   "outputs": [
    {
     "data": {
      "text/plain": [
       "'Prof-specialty'"
      ]
     },
     "execution_count": 174,
     "metadata": {},
     "output_type": "execute_result"
    }
   ],
   "source": [
    "high_earners = df[\"salary\"] == \">50K\" # casts as vars for readibility\n",
    "india = df[\"native-country\"] == \"India\"\n",
    "top_IN_occupation = df[(high_earners) & (india)]['occupation'].value_counts().idxmax()\n",
    "top_IN_occupation"
   ]
  }
 ],
 "metadata": {
  "kernelspec": {
   "display_name": "base",
   "language": "python",
   "name": "python3"
  },
  "language_info": {
   "codemirror_mode": {
    "name": "ipython",
    "version": 3
   },
   "file_extension": ".py",
   "mimetype": "text/x-python",
   "name": "python",
   "nbconvert_exporter": "python",
   "pygments_lexer": "ipython3",
   "version": "3.10.6"
  }
 },
 "nbformat": 4,
 "nbformat_minor": 5
}
