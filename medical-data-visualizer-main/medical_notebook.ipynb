{
 "cells": [
  {
   "cell_type": "code",
   "execution_count": null,
   "id": "cc7bb3d8",
   "metadata": {},
   "outputs": [],
   "source": [
    "# 1\n",
    "df = pd.read_csv(\"medical_examination.csv\")\n",
    "print(df)\n",
    "\n",
    "# 2\n",
    "df['overweight'] = None\n",
    "\n",
    "# 3\n",
    "\n",
    "\n"
   ]
  },
  {
   "cell_type": "code",
   "execution_count": null,
   "id": "6adb5956",
   "metadata": {},
   "outputs": [],
   "source": [
    "# 4\n",
    "def draw_cat_plot():\n",
    "    # 5\n",
    "    df_cat = None\n",
    "\n",
    "\n",
    "    # 6\n",
    "    df_cat = None\n",
    "    \n",
    "\n",
    "    # 7\n",
    "\n",
    "\n",
    "\n",
    "    # 8\n",
    "    fig = None\n",
    "\n",
    "\n",
    "    # 9\n",
    "    fig.savefig('catplot.png')\n",
    "    return fig\n",
    "\n",
    "\n",
    "# 10\n",
    "def draw_heat_map():\n",
    "    # 11\n",
    "    df_heat = None\n",
    "\n",
    "    # 12\n",
    "    corr = None\n",
    "\n",
    "    # 13\n",
    "    mask = None\n",
    "\n",
    "\n",
    "\n",
    "    # 14\n",
    "    fig, ax = None\n",
    "\n",
    "    # 15\n",
    "\n",
    "\n",
    "\n",
    "    # 16\n",
    "    fig.savefig('heatmap.png')\n",
    "    return fig"
   ]
  }
 ],
 "metadata": {
  "kernelspec": {
   "display_name": "base",
   "language": "python",
   "name": "python3"
  },
  "language_info": {
   "name": "python",
   "version": "3.10.6"
  }
 },
 "nbformat": 4,
 "nbformat_minor": 5
}
